{
  "nbformat": 4,
  "nbformat_minor": 0,
  "metadata": {
    "colab": {
      "name": "NYPD Arrest Data.ipynb",
      "provenance": [],
      "collapsed_sections": []
    },
    "kernelspec": {
      "name": "python3",
      "display_name": "Python 3"
    },
    "language_info": {
      "name": "python"
    }
  },
  "cells": [
    {
      "cell_type": "code",
      "execution_count": 1,
      "metadata": {
        "id": "MIhcBD8R2uwj"
      },
      "outputs": [],
      "source": [
        "import pandas as pd\n",
        "import matplotlib.pyplot as plt\n",
        "import seaborn as sns\n",
        "%matplotlib inline"
      ]
    },
    {
      "cell_type": "code",
      "source": [
        "#importing the data\n",
        "df = pd.read_csv('/content/NYPD_Arrest_Data__Year_to_Date_.csv')"
      ],
      "metadata": {
        "id": "UG_XuHtu21IT"
      },
      "execution_count": 2,
      "outputs": []
    },
    {
      "cell_type": "code",
      "source": [
        "df.head()"
      ],
      "metadata": {
        "colab": {
          "base_uri": "https://localhost:8080/",
          "height": 461
        },
        "id": "8ATWIRkN29LV",
        "outputId": "23b3d165-9906-4b86-9a29-fed8fdb70d18"
      },
      "execution_count": 3,
      "outputs": [
        {
          "output_type": "execute_result",
          "data": {
            "text/html": [
              "\n",
              "  <div id=\"df-90054a21-97f6-484f-8f82-928fbbad737a\">\n",
              "    <div class=\"colab-df-container\">\n",
              "      <div>\n",
              "<style scoped>\n",
              "    .dataframe tbody tr th:only-of-type {\n",
              "        vertical-align: middle;\n",
              "    }\n",
              "\n",
              "    .dataframe tbody tr th {\n",
              "        vertical-align: top;\n",
              "    }\n",
              "\n",
              "    .dataframe thead th {\n",
              "        text-align: right;\n",
              "    }\n",
              "</style>\n",
              "<table border=\"1\" class=\"dataframe\">\n",
              "  <thead>\n",
              "    <tr style=\"text-align: right;\">\n",
              "      <th></th>\n",
              "      <th>ARREST_KEY</th>\n",
              "      <th>ARREST_DATE</th>\n",
              "      <th>PD_CD</th>\n",
              "      <th>PD_DESC</th>\n",
              "      <th>KY_CD</th>\n",
              "      <th>OFNS_DESC</th>\n",
              "      <th>LAW_CODE</th>\n",
              "      <th>LAW_CAT_CD</th>\n",
              "      <th>ARREST_BORO</th>\n",
              "      <th>ARREST_PRECINCT</th>\n",
              "      <th>JURISDICTION_CODE</th>\n",
              "      <th>AGE_GROUP</th>\n",
              "      <th>PERP_SEX</th>\n",
              "      <th>PERP_RACE</th>\n",
              "      <th>X_COORD_CD</th>\n",
              "      <th>Y_COORD_CD</th>\n",
              "      <th>Latitude</th>\n",
              "      <th>Longitude</th>\n",
              "      <th>New Georeferenced Column</th>\n",
              "    </tr>\n",
              "  </thead>\n",
              "  <tbody>\n",
              "    <tr>\n",
              "      <th>0</th>\n",
              "      <td>238013474</td>\n",
              "      <td>12/18/2021</td>\n",
              "      <td>157.0</td>\n",
              "      <td>RAPE 1</td>\n",
              "      <td>104.0</td>\n",
              "      <td>RAPE</td>\n",
              "      <td>PL 1303501</td>\n",
              "      <td>F</td>\n",
              "      <td>Q</td>\n",
              "      <td>105</td>\n",
              "      <td>97</td>\n",
              "      <td>18-24</td>\n",
              "      <td>M</td>\n",
              "      <td>BLACK</td>\n",
              "      <td>1057636</td>\n",
              "      <td>203954</td>\n",
              "      <td>40.726187</td>\n",
              "      <td>-73.735234</td>\n",
              "      <td>POINT (-73.73523390399998 40.72618713000002)</td>\n",
              "    </tr>\n",
              "    <tr>\n",
              "      <th>1</th>\n",
              "      <td>236943583</td>\n",
              "      <td>11/25/2021</td>\n",
              "      <td>263.0</td>\n",
              "      <td>ARSON 2,3,4</td>\n",
              "      <td>114.0</td>\n",
              "      <td>ARSON</td>\n",
              "      <td>PL 1501500</td>\n",
              "      <td>F</td>\n",
              "      <td>K</td>\n",
              "      <td>69</td>\n",
              "      <td>71</td>\n",
              "      <td>25-44</td>\n",
              "      <td>M</td>\n",
              "      <td>BLACK</td>\n",
              "      <td>1014340</td>\n",
              "      <td>171320</td>\n",
              "      <td>40.636868</td>\n",
              "      <td>-73.891586</td>\n",
              "      <td>POINT (-73.89158591899997 40.63686750900007)</td>\n",
              "    </tr>\n",
              "    <tr>\n",
              "      <th>2</th>\n",
              "      <td>234938876</td>\n",
              "      <td>10/14/2021</td>\n",
              "      <td>594.0</td>\n",
              "      <td>OBSCENITY 1</td>\n",
              "      <td>116.0</td>\n",
              "      <td>SEX CRIMES</td>\n",
              "      <td>PL 2631100</td>\n",
              "      <td>F</td>\n",
              "      <td>K</td>\n",
              "      <td>61</td>\n",
              "      <td>0</td>\n",
              "      <td>25-44</td>\n",
              "      <td>M</td>\n",
              "      <td>WHITE</td>\n",
              "      <td>995244</td>\n",
              "      <td>155739</td>\n",
              "      <td>40.594145</td>\n",
              "      <td>-73.960415</td>\n",
              "      <td>POINT (-73.96041495199995 40.59414516900005)</td>\n",
              "    </tr>\n",
              "    <tr>\n",
              "      <th>3</th>\n",
              "      <td>234788259</td>\n",
              "      <td>10/11/2021</td>\n",
              "      <td>263.0</td>\n",
              "      <td>ARSON 2,3,4</td>\n",
              "      <td>114.0</td>\n",
              "      <td>ARSON</td>\n",
              "      <td>PL 1501001</td>\n",
              "      <td>F</td>\n",
              "      <td>B</td>\n",
              "      <td>42</td>\n",
              "      <td>71</td>\n",
              "      <td>18-24</td>\n",
              "      <td>M</td>\n",
              "      <td>BLACK</td>\n",
              "      <td>1009058</td>\n",
              "      <td>239616</td>\n",
              "      <td>40.824340</td>\n",
              "      <td>-73.910365</td>\n",
              "      <td>POINT (-73.91036538099996 40.82433953100008)</td>\n",
              "    </tr>\n",
              "    <tr>\n",
              "      <th>4</th>\n",
              "      <td>234188790</td>\n",
              "      <td>09/28/2021</td>\n",
              "      <td>578.0</td>\n",
              "      <td>NaN</td>\n",
              "      <td>NaN</td>\n",
              "      <td>NaN</td>\n",
              "      <td>PL 2223001</td>\n",
              "      <td>M</td>\n",
              "      <td>B</td>\n",
              "      <td>44</td>\n",
              "      <td>0</td>\n",
              "      <td>25-44</td>\n",
              "      <td>M</td>\n",
              "      <td>BLACK</td>\n",
              "      <td>1005169</td>\n",
              "      <td>246667</td>\n",
              "      <td>40.843703</td>\n",
              "      <td>-73.924395</td>\n",
              "      <td>POINT (-73.92439508899997 40.84370255600004)</td>\n",
              "    </tr>\n",
              "  </tbody>\n",
              "</table>\n",
              "</div>\n",
              "      <button class=\"colab-df-convert\" onclick=\"convertToInteractive('df-90054a21-97f6-484f-8f82-928fbbad737a')\"\n",
              "              title=\"Convert this dataframe to an interactive table.\"\n",
              "              style=\"display:none;\">\n",
              "        \n",
              "  <svg xmlns=\"http://www.w3.org/2000/svg\" height=\"24px\"viewBox=\"0 0 24 24\"\n",
              "       width=\"24px\">\n",
              "    <path d=\"M0 0h24v24H0V0z\" fill=\"none\"/>\n",
              "    <path d=\"M18.56 5.44l.94 2.06.94-2.06 2.06-.94-2.06-.94-.94-2.06-.94 2.06-2.06.94zm-11 1L8.5 8.5l.94-2.06 2.06-.94-2.06-.94L8.5 2.5l-.94 2.06-2.06.94zm10 10l.94 2.06.94-2.06 2.06-.94-2.06-.94-.94-2.06-.94 2.06-2.06.94z\"/><path d=\"M17.41 7.96l-1.37-1.37c-.4-.4-.92-.59-1.43-.59-.52 0-1.04.2-1.43.59L10.3 9.45l-7.72 7.72c-.78.78-.78 2.05 0 2.83L4 21.41c.39.39.9.59 1.41.59.51 0 1.02-.2 1.41-.59l7.78-7.78 2.81-2.81c.8-.78.8-2.07 0-2.86zM5.41 20L4 18.59l7.72-7.72 1.47 1.35L5.41 20z\"/>\n",
              "  </svg>\n",
              "      </button>\n",
              "      \n",
              "  <style>\n",
              "    .colab-df-container {\n",
              "      display:flex;\n",
              "      flex-wrap:wrap;\n",
              "      gap: 12px;\n",
              "    }\n",
              "\n",
              "    .colab-df-convert {\n",
              "      background-color: #E8F0FE;\n",
              "      border: none;\n",
              "      border-radius: 50%;\n",
              "      cursor: pointer;\n",
              "      display: none;\n",
              "      fill: #1967D2;\n",
              "      height: 32px;\n",
              "      padding: 0 0 0 0;\n",
              "      width: 32px;\n",
              "    }\n",
              "\n",
              "    .colab-df-convert:hover {\n",
              "      background-color: #E2EBFA;\n",
              "      box-shadow: 0px 1px 2px rgba(60, 64, 67, 0.3), 0px 1px 3px 1px rgba(60, 64, 67, 0.15);\n",
              "      fill: #174EA6;\n",
              "    }\n",
              "\n",
              "    [theme=dark] .colab-df-convert {\n",
              "      background-color: #3B4455;\n",
              "      fill: #D2E3FC;\n",
              "    }\n",
              "\n",
              "    [theme=dark] .colab-df-convert:hover {\n",
              "      background-color: #434B5C;\n",
              "      box-shadow: 0px 1px 3px 1px rgba(0, 0, 0, 0.15);\n",
              "      filter: drop-shadow(0px 1px 2px rgba(0, 0, 0, 0.3));\n",
              "      fill: #FFFFFF;\n",
              "    }\n",
              "  </style>\n",
              "\n",
              "      <script>\n",
              "        const buttonEl =\n",
              "          document.querySelector('#df-90054a21-97f6-484f-8f82-928fbbad737a button.colab-df-convert');\n",
              "        buttonEl.style.display =\n",
              "          google.colab.kernel.accessAllowed ? 'block' : 'none';\n",
              "\n",
              "        async function convertToInteractive(key) {\n",
              "          const element = document.querySelector('#df-90054a21-97f6-484f-8f82-928fbbad737a');\n",
              "          const dataTable =\n",
              "            await google.colab.kernel.invokeFunction('convertToInteractive',\n",
              "                                                     [key], {});\n",
              "          if (!dataTable) return;\n",
              "\n",
              "          const docLinkHtml = 'Like what you see? Visit the ' +\n",
              "            '<a target=\"_blank\" href=https://colab.research.google.com/notebooks/data_table.ipynb>data table notebook</a>'\n",
              "            + ' to learn more about interactive tables.';\n",
              "          element.innerHTML = '';\n",
              "          dataTable['output_type'] = 'display_data';\n",
              "          await google.colab.output.renderOutput(dataTable, element);\n",
              "          const docLink = document.createElement('div');\n",
              "          docLink.innerHTML = docLinkHtml;\n",
              "          element.appendChild(docLink);\n",
              "        }\n",
              "      </script>\n",
              "    </div>\n",
              "  </div>\n",
              "  "
            ],
            "text/plain": [
              "   ARREST_KEY ARREST_DATE  PD_CD      PD_DESC  KY_CD   OFNS_DESC    LAW_CODE  \\\n",
              "0   238013474  12/18/2021  157.0       RAPE 1  104.0        RAPE  PL 1303501   \n",
              "1   236943583  11/25/2021  263.0  ARSON 2,3,4  114.0       ARSON  PL 1501500   \n",
              "2   234938876  10/14/2021  594.0  OBSCENITY 1  116.0  SEX CRIMES  PL 2631100   \n",
              "3   234788259  10/11/2021  263.0  ARSON 2,3,4  114.0       ARSON  PL 1501001   \n",
              "4   234188790  09/28/2021  578.0          NaN    NaN         NaN  PL 2223001   \n",
              "\n",
              "  LAW_CAT_CD ARREST_BORO  ARREST_PRECINCT  JURISDICTION_CODE AGE_GROUP  \\\n",
              "0          F           Q              105                 97     18-24   \n",
              "1          F           K               69                 71     25-44   \n",
              "2          F           K               61                  0     25-44   \n",
              "3          F           B               42                 71     18-24   \n",
              "4          M           B               44                  0     25-44   \n",
              "\n",
              "  PERP_SEX PERP_RACE  X_COORD_CD  Y_COORD_CD   Latitude  Longitude  \\\n",
              "0        M     BLACK     1057636      203954  40.726187 -73.735234   \n",
              "1        M     BLACK     1014340      171320  40.636868 -73.891586   \n",
              "2        M     WHITE      995244      155739  40.594145 -73.960415   \n",
              "3        M     BLACK     1009058      239616  40.824340 -73.910365   \n",
              "4        M     BLACK     1005169      246667  40.843703 -73.924395   \n",
              "\n",
              "                       New Georeferenced Column  \n",
              "0  POINT (-73.73523390399998 40.72618713000002)  \n",
              "1  POINT (-73.89158591899997 40.63686750900007)  \n",
              "2  POINT (-73.96041495199995 40.59414516900005)  \n",
              "3  POINT (-73.91036538099996 40.82433953100008)  \n",
              "4  POINT (-73.92439508899997 40.84370255600004)  "
            ]
          },
          "metadata": {},
          "execution_count": 3
        }
      ]
    },
    {
      "cell_type": "code",
      "source": [
        "#drop columns that I won't be using\n",
        "drop_cols = ['PD_CD','KY_CD','LAW_CODE','X_COORD_CD','Y_COORD_CD','Latitude','Longitude','New Georeferenced Column']\n",
        "df2 = df.drop(drop_cols, axis=1)"
      ],
      "metadata": {
        "id": "yoPUWORr7blM"
      },
      "execution_count": 4,
      "outputs": []
    },
    {
      "cell_type": "code",
      "source": [
        "#making sure I have the columns that I want\n",
        "df2.head()"
      ],
      "metadata": {
        "colab": {
          "base_uri": "https://localhost:8080/",
          "height": 322
        },
        "id": "z9us7yWV7pLS",
        "outputId": "2d900b55-c05b-4ab2-befe-e9ed67ae0228"
      },
      "execution_count": 5,
      "outputs": [
        {
          "output_type": "execute_result",
          "data": {
            "text/html": [
              "\n",
              "  <div id=\"df-c0e8d8e9-bf4c-4c9a-8119-c0fe56c9f4f3\">\n",
              "    <div class=\"colab-df-container\">\n",
              "      <div>\n",
              "<style scoped>\n",
              "    .dataframe tbody tr th:only-of-type {\n",
              "        vertical-align: middle;\n",
              "    }\n",
              "\n",
              "    .dataframe tbody tr th {\n",
              "        vertical-align: top;\n",
              "    }\n",
              "\n",
              "    .dataframe thead th {\n",
              "        text-align: right;\n",
              "    }\n",
              "</style>\n",
              "<table border=\"1\" class=\"dataframe\">\n",
              "  <thead>\n",
              "    <tr style=\"text-align: right;\">\n",
              "      <th></th>\n",
              "      <th>ARREST_KEY</th>\n",
              "      <th>ARREST_DATE</th>\n",
              "      <th>PD_DESC</th>\n",
              "      <th>OFNS_DESC</th>\n",
              "      <th>LAW_CAT_CD</th>\n",
              "      <th>ARREST_BORO</th>\n",
              "      <th>ARREST_PRECINCT</th>\n",
              "      <th>JURISDICTION_CODE</th>\n",
              "      <th>AGE_GROUP</th>\n",
              "      <th>PERP_SEX</th>\n",
              "      <th>PERP_RACE</th>\n",
              "    </tr>\n",
              "  </thead>\n",
              "  <tbody>\n",
              "    <tr>\n",
              "      <th>0</th>\n",
              "      <td>238013474</td>\n",
              "      <td>12/18/2021</td>\n",
              "      <td>RAPE 1</td>\n",
              "      <td>RAPE</td>\n",
              "      <td>F</td>\n",
              "      <td>Q</td>\n",
              "      <td>105</td>\n",
              "      <td>97</td>\n",
              "      <td>18-24</td>\n",
              "      <td>M</td>\n",
              "      <td>BLACK</td>\n",
              "    </tr>\n",
              "    <tr>\n",
              "      <th>1</th>\n",
              "      <td>236943583</td>\n",
              "      <td>11/25/2021</td>\n",
              "      <td>ARSON 2,3,4</td>\n",
              "      <td>ARSON</td>\n",
              "      <td>F</td>\n",
              "      <td>K</td>\n",
              "      <td>69</td>\n",
              "      <td>71</td>\n",
              "      <td>25-44</td>\n",
              "      <td>M</td>\n",
              "      <td>BLACK</td>\n",
              "    </tr>\n",
              "    <tr>\n",
              "      <th>2</th>\n",
              "      <td>234938876</td>\n",
              "      <td>10/14/2021</td>\n",
              "      <td>OBSCENITY 1</td>\n",
              "      <td>SEX CRIMES</td>\n",
              "      <td>F</td>\n",
              "      <td>K</td>\n",
              "      <td>61</td>\n",
              "      <td>0</td>\n",
              "      <td>25-44</td>\n",
              "      <td>M</td>\n",
              "      <td>WHITE</td>\n",
              "    </tr>\n",
              "    <tr>\n",
              "      <th>3</th>\n",
              "      <td>234788259</td>\n",
              "      <td>10/11/2021</td>\n",
              "      <td>ARSON 2,3,4</td>\n",
              "      <td>ARSON</td>\n",
              "      <td>F</td>\n",
              "      <td>B</td>\n",
              "      <td>42</td>\n",
              "      <td>71</td>\n",
              "      <td>18-24</td>\n",
              "      <td>M</td>\n",
              "      <td>BLACK</td>\n",
              "    </tr>\n",
              "    <tr>\n",
              "      <th>4</th>\n",
              "      <td>234188790</td>\n",
              "      <td>09/28/2021</td>\n",
              "      <td>NaN</td>\n",
              "      <td>NaN</td>\n",
              "      <td>M</td>\n",
              "      <td>B</td>\n",
              "      <td>44</td>\n",
              "      <td>0</td>\n",
              "      <td>25-44</td>\n",
              "      <td>M</td>\n",
              "      <td>BLACK</td>\n",
              "    </tr>\n",
              "  </tbody>\n",
              "</table>\n",
              "</div>\n",
              "      <button class=\"colab-df-convert\" onclick=\"convertToInteractive('df-c0e8d8e9-bf4c-4c9a-8119-c0fe56c9f4f3')\"\n",
              "              title=\"Convert this dataframe to an interactive table.\"\n",
              "              style=\"display:none;\">\n",
              "        \n",
              "  <svg xmlns=\"http://www.w3.org/2000/svg\" height=\"24px\"viewBox=\"0 0 24 24\"\n",
              "       width=\"24px\">\n",
              "    <path d=\"M0 0h24v24H0V0z\" fill=\"none\"/>\n",
              "    <path d=\"M18.56 5.44l.94 2.06.94-2.06 2.06-.94-2.06-.94-.94-2.06-.94 2.06-2.06.94zm-11 1L8.5 8.5l.94-2.06 2.06-.94-2.06-.94L8.5 2.5l-.94 2.06-2.06.94zm10 10l.94 2.06.94-2.06 2.06-.94-2.06-.94-.94-2.06-.94 2.06-2.06.94z\"/><path d=\"M17.41 7.96l-1.37-1.37c-.4-.4-.92-.59-1.43-.59-.52 0-1.04.2-1.43.59L10.3 9.45l-7.72 7.72c-.78.78-.78 2.05 0 2.83L4 21.41c.39.39.9.59 1.41.59.51 0 1.02-.2 1.41-.59l7.78-7.78 2.81-2.81c.8-.78.8-2.07 0-2.86zM5.41 20L4 18.59l7.72-7.72 1.47 1.35L5.41 20z\"/>\n",
              "  </svg>\n",
              "      </button>\n",
              "      \n",
              "  <style>\n",
              "    .colab-df-container {\n",
              "      display:flex;\n",
              "      flex-wrap:wrap;\n",
              "      gap: 12px;\n",
              "    }\n",
              "\n",
              "    .colab-df-convert {\n",
              "      background-color: #E8F0FE;\n",
              "      border: none;\n",
              "      border-radius: 50%;\n",
              "      cursor: pointer;\n",
              "      display: none;\n",
              "      fill: #1967D2;\n",
              "      height: 32px;\n",
              "      padding: 0 0 0 0;\n",
              "      width: 32px;\n",
              "    }\n",
              "\n",
              "    .colab-df-convert:hover {\n",
              "      background-color: #E2EBFA;\n",
              "      box-shadow: 0px 1px 2px rgba(60, 64, 67, 0.3), 0px 1px 3px 1px rgba(60, 64, 67, 0.15);\n",
              "      fill: #174EA6;\n",
              "    }\n",
              "\n",
              "    [theme=dark] .colab-df-convert {\n",
              "      background-color: #3B4455;\n",
              "      fill: #D2E3FC;\n",
              "    }\n",
              "\n",
              "    [theme=dark] .colab-df-convert:hover {\n",
              "      background-color: #434B5C;\n",
              "      box-shadow: 0px 1px 3px 1px rgba(0, 0, 0, 0.15);\n",
              "      filter: drop-shadow(0px 1px 2px rgba(0, 0, 0, 0.3));\n",
              "      fill: #FFFFFF;\n",
              "    }\n",
              "  </style>\n",
              "\n",
              "      <script>\n",
              "        const buttonEl =\n",
              "          document.querySelector('#df-c0e8d8e9-bf4c-4c9a-8119-c0fe56c9f4f3 button.colab-df-convert');\n",
              "        buttonEl.style.display =\n",
              "          google.colab.kernel.accessAllowed ? 'block' : 'none';\n",
              "\n",
              "        async function convertToInteractive(key) {\n",
              "          const element = document.querySelector('#df-c0e8d8e9-bf4c-4c9a-8119-c0fe56c9f4f3');\n",
              "          const dataTable =\n",
              "            await google.colab.kernel.invokeFunction('convertToInteractive',\n",
              "                                                     [key], {});\n",
              "          if (!dataTable) return;\n",
              "\n",
              "          const docLinkHtml = 'Like what you see? Visit the ' +\n",
              "            '<a target=\"_blank\" href=https://colab.research.google.com/notebooks/data_table.ipynb>data table notebook</a>'\n",
              "            + ' to learn more about interactive tables.';\n",
              "          element.innerHTML = '';\n",
              "          dataTable['output_type'] = 'display_data';\n",
              "          await google.colab.output.renderOutput(dataTable, element);\n",
              "          const docLink = document.createElement('div');\n",
              "          docLink.innerHTML = docLinkHtml;\n",
              "          element.appendChild(docLink);\n",
              "        }\n",
              "      </script>\n",
              "    </div>\n",
              "  </div>\n",
              "  "
            ],
            "text/plain": [
              "   ARREST_KEY ARREST_DATE      PD_DESC   OFNS_DESC LAW_CAT_CD ARREST_BORO  \\\n",
              "0   238013474  12/18/2021       RAPE 1        RAPE          F           Q   \n",
              "1   236943583  11/25/2021  ARSON 2,3,4       ARSON          F           K   \n",
              "2   234938876  10/14/2021  OBSCENITY 1  SEX CRIMES          F           K   \n",
              "3   234788259  10/11/2021  ARSON 2,3,4       ARSON          F           B   \n",
              "4   234188790  09/28/2021          NaN         NaN          M           B   \n",
              "\n",
              "   ARREST_PRECINCT  JURISDICTION_CODE AGE_GROUP PERP_SEX PERP_RACE  \n",
              "0              105                 97     18-24        M     BLACK  \n",
              "1               69                 71     25-44        M     BLACK  \n",
              "2               61                  0     25-44        M     WHITE  \n",
              "3               42                 71     18-24        M     BLACK  \n",
              "4               44                  0     25-44        M     BLACK  "
            ]
          },
          "metadata": {},
          "execution_count": 5
        }
      ]
    },
    {
      "cell_type": "code",
      "source": [
        "#turning missing value to \"Unknown\"\n",
        "df3 = df2.fillna(value='UNKNOWN')\n",
        "df3"
      ],
      "metadata": {
        "colab": {
          "base_uri": "https://localhost:8080/",
          "height": 661
        },
        "id": "pPzua6o77xbC",
        "outputId": "ec1d3648-26a2-462b-d15b-eaba48b4127c"
      },
      "execution_count": 6,
      "outputs": [
        {
          "output_type": "execute_result",
          "data": {
            "text/html": [
              "\n",
              "  <div id=\"df-37989562-9dfa-48eb-b5d0-6909de1165cd\">\n",
              "    <div class=\"colab-df-container\">\n",
              "      <div>\n",
              "<style scoped>\n",
              "    .dataframe tbody tr th:only-of-type {\n",
              "        vertical-align: middle;\n",
              "    }\n",
              "\n",
              "    .dataframe tbody tr th {\n",
              "        vertical-align: top;\n",
              "    }\n",
              "\n",
              "    .dataframe thead th {\n",
              "        text-align: right;\n",
              "    }\n",
              "</style>\n",
              "<table border=\"1\" class=\"dataframe\">\n",
              "  <thead>\n",
              "    <tr style=\"text-align: right;\">\n",
              "      <th></th>\n",
              "      <th>ARREST_KEY</th>\n",
              "      <th>ARREST_DATE</th>\n",
              "      <th>PD_DESC</th>\n",
              "      <th>OFNS_DESC</th>\n",
              "      <th>LAW_CAT_CD</th>\n",
              "      <th>ARREST_BORO</th>\n",
              "      <th>ARREST_PRECINCT</th>\n",
              "      <th>JURISDICTION_CODE</th>\n",
              "      <th>AGE_GROUP</th>\n",
              "      <th>PERP_SEX</th>\n",
              "      <th>PERP_RACE</th>\n",
              "    </tr>\n",
              "  </thead>\n",
              "  <tbody>\n",
              "    <tr>\n",
              "      <th>0</th>\n",
              "      <td>238013474</td>\n",
              "      <td>12/18/2021</td>\n",
              "      <td>RAPE 1</td>\n",
              "      <td>RAPE</td>\n",
              "      <td>F</td>\n",
              "      <td>Q</td>\n",
              "      <td>105</td>\n",
              "      <td>97</td>\n",
              "      <td>18-24</td>\n",
              "      <td>M</td>\n",
              "      <td>BLACK</td>\n",
              "    </tr>\n",
              "    <tr>\n",
              "      <th>1</th>\n",
              "      <td>236943583</td>\n",
              "      <td>11/25/2021</td>\n",
              "      <td>ARSON 2,3,4</td>\n",
              "      <td>ARSON</td>\n",
              "      <td>F</td>\n",
              "      <td>K</td>\n",
              "      <td>69</td>\n",
              "      <td>71</td>\n",
              "      <td>25-44</td>\n",
              "      <td>M</td>\n",
              "      <td>BLACK</td>\n",
              "    </tr>\n",
              "    <tr>\n",
              "      <th>2</th>\n",
              "      <td>234938876</td>\n",
              "      <td>10/14/2021</td>\n",
              "      <td>OBSCENITY 1</td>\n",
              "      <td>SEX CRIMES</td>\n",
              "      <td>F</td>\n",
              "      <td>K</td>\n",
              "      <td>61</td>\n",
              "      <td>0</td>\n",
              "      <td>25-44</td>\n",
              "      <td>M</td>\n",
              "      <td>WHITE</td>\n",
              "    </tr>\n",
              "    <tr>\n",
              "      <th>3</th>\n",
              "      <td>234788259</td>\n",
              "      <td>10/11/2021</td>\n",
              "      <td>ARSON 2,3,4</td>\n",
              "      <td>ARSON</td>\n",
              "      <td>F</td>\n",
              "      <td>B</td>\n",
              "      <td>42</td>\n",
              "      <td>71</td>\n",
              "      <td>18-24</td>\n",
              "      <td>M</td>\n",
              "      <td>BLACK</td>\n",
              "    </tr>\n",
              "    <tr>\n",
              "      <th>4</th>\n",
              "      <td>234188790</td>\n",
              "      <td>09/28/2021</td>\n",
              "      <td>UNKNOWN</td>\n",
              "      <td>UNKNOWN</td>\n",
              "      <td>M</td>\n",
              "      <td>B</td>\n",
              "      <td>44</td>\n",
              "      <td>0</td>\n",
              "      <td>25-44</td>\n",
              "      <td>M</td>\n",
              "      <td>BLACK</td>\n",
              "    </tr>\n",
              "    <tr>\n",
              "      <th>...</th>\n",
              "      <td>...</td>\n",
              "      <td>...</td>\n",
              "      <td>...</td>\n",
              "      <td>...</td>\n",
              "      <td>...</td>\n",
              "      <td>...</td>\n",
              "      <td>...</td>\n",
              "      <td>...</td>\n",
              "      <td>...</td>\n",
              "      <td>...</td>\n",
              "      <td>...</td>\n",
              "    </tr>\n",
              "    <tr>\n",
              "      <th>155502</th>\n",
              "      <td>222884924</td>\n",
              "      <td>01/10/2021</td>\n",
              "      <td>ROBBERY,OPEN AREA UNCLASSIFIED</td>\n",
              "      <td>ROBBERY</td>\n",
              "      <td>F</td>\n",
              "      <td>B</td>\n",
              "      <td>46</td>\n",
              "      <td>0</td>\n",
              "      <td>45-64</td>\n",
              "      <td>M</td>\n",
              "      <td>BLACK</td>\n",
              "    </tr>\n",
              "    <tr>\n",
              "      <th>155503</th>\n",
              "      <td>223918625</td>\n",
              "      <td>02/03/2021</td>\n",
              "      <td>WEAPONS POSSESSION 1 &amp; 2</td>\n",
              "      <td>DANGEROUS WEAPONS</td>\n",
              "      <td>F</td>\n",
              "      <td>K</td>\n",
              "      <td>67</td>\n",
              "      <td>0</td>\n",
              "      <td>18-24</td>\n",
              "      <td>M</td>\n",
              "      <td>BLACK</td>\n",
              "    </tr>\n",
              "    <tr>\n",
              "      <th>155504</th>\n",
              "      <td>224323770</td>\n",
              "      <td>02/13/2021</td>\n",
              "      <td>ASSAULT 3</td>\n",
              "      <td>ASSAULT 3 &amp; RELATED OFFENSES</td>\n",
              "      <td>M</td>\n",
              "      <td>S</td>\n",
              "      <td>121</td>\n",
              "      <td>0</td>\n",
              "      <td>45-64</td>\n",
              "      <td>M</td>\n",
              "      <td>BLACK</td>\n",
              "    </tr>\n",
              "    <tr>\n",
              "      <th>155505</th>\n",
              "      <td>222599533</td>\n",
              "      <td>01/04/2021</td>\n",
              "      <td>WEAPONS POSSESSION 1 &amp; 2</td>\n",
              "      <td>DANGEROUS WEAPONS</td>\n",
              "      <td>F</td>\n",
              "      <td>K</td>\n",
              "      <td>73</td>\n",
              "      <td>0</td>\n",
              "      <td>25-44</td>\n",
              "      <td>M</td>\n",
              "      <td>BLACK</td>\n",
              "    </tr>\n",
              "    <tr>\n",
              "      <th>155506</th>\n",
              "      <td>224056881</td>\n",
              "      <td>02/06/2021</td>\n",
              "      <td>CRIMINAL MIS 2 &amp; 3</td>\n",
              "      <td>CRIMINAL MISCHIEF &amp; RELATED OF</td>\n",
              "      <td>F</td>\n",
              "      <td>Q</td>\n",
              "      <td>102</td>\n",
              "      <td>0</td>\n",
              "      <td>18-24</td>\n",
              "      <td>M</td>\n",
              "      <td>ASIAN / PACIFIC ISLANDER</td>\n",
              "    </tr>\n",
              "  </tbody>\n",
              "</table>\n",
              "<p>155507 rows × 11 columns</p>\n",
              "</div>\n",
              "      <button class=\"colab-df-convert\" onclick=\"convertToInteractive('df-37989562-9dfa-48eb-b5d0-6909de1165cd')\"\n",
              "              title=\"Convert this dataframe to an interactive table.\"\n",
              "              style=\"display:none;\">\n",
              "        \n",
              "  <svg xmlns=\"http://www.w3.org/2000/svg\" height=\"24px\"viewBox=\"0 0 24 24\"\n",
              "       width=\"24px\">\n",
              "    <path d=\"M0 0h24v24H0V0z\" fill=\"none\"/>\n",
              "    <path d=\"M18.56 5.44l.94 2.06.94-2.06 2.06-.94-2.06-.94-.94-2.06-.94 2.06-2.06.94zm-11 1L8.5 8.5l.94-2.06 2.06-.94-2.06-.94L8.5 2.5l-.94 2.06-2.06.94zm10 10l.94 2.06.94-2.06 2.06-.94-2.06-.94-.94-2.06-.94 2.06-2.06.94z\"/><path d=\"M17.41 7.96l-1.37-1.37c-.4-.4-.92-.59-1.43-.59-.52 0-1.04.2-1.43.59L10.3 9.45l-7.72 7.72c-.78.78-.78 2.05 0 2.83L4 21.41c.39.39.9.59 1.41.59.51 0 1.02-.2 1.41-.59l7.78-7.78 2.81-2.81c.8-.78.8-2.07 0-2.86zM5.41 20L4 18.59l7.72-7.72 1.47 1.35L5.41 20z\"/>\n",
              "  </svg>\n",
              "      </button>\n",
              "      \n",
              "  <style>\n",
              "    .colab-df-container {\n",
              "      display:flex;\n",
              "      flex-wrap:wrap;\n",
              "      gap: 12px;\n",
              "    }\n",
              "\n",
              "    .colab-df-convert {\n",
              "      background-color: #E8F0FE;\n",
              "      border: none;\n",
              "      border-radius: 50%;\n",
              "      cursor: pointer;\n",
              "      display: none;\n",
              "      fill: #1967D2;\n",
              "      height: 32px;\n",
              "      padding: 0 0 0 0;\n",
              "      width: 32px;\n",
              "    }\n",
              "\n",
              "    .colab-df-convert:hover {\n",
              "      background-color: #E2EBFA;\n",
              "      box-shadow: 0px 1px 2px rgba(60, 64, 67, 0.3), 0px 1px 3px 1px rgba(60, 64, 67, 0.15);\n",
              "      fill: #174EA6;\n",
              "    }\n",
              "\n",
              "    [theme=dark] .colab-df-convert {\n",
              "      background-color: #3B4455;\n",
              "      fill: #D2E3FC;\n",
              "    }\n",
              "\n",
              "    [theme=dark] .colab-df-convert:hover {\n",
              "      background-color: #434B5C;\n",
              "      box-shadow: 0px 1px 3px 1px rgba(0, 0, 0, 0.15);\n",
              "      filter: drop-shadow(0px 1px 2px rgba(0, 0, 0, 0.3));\n",
              "      fill: #FFFFFF;\n",
              "    }\n",
              "  </style>\n",
              "\n",
              "      <script>\n",
              "        const buttonEl =\n",
              "          document.querySelector('#df-37989562-9dfa-48eb-b5d0-6909de1165cd button.colab-df-convert');\n",
              "        buttonEl.style.display =\n",
              "          google.colab.kernel.accessAllowed ? 'block' : 'none';\n",
              "\n",
              "        async function convertToInteractive(key) {\n",
              "          const element = document.querySelector('#df-37989562-9dfa-48eb-b5d0-6909de1165cd');\n",
              "          const dataTable =\n",
              "            await google.colab.kernel.invokeFunction('convertToInteractive',\n",
              "                                                     [key], {});\n",
              "          if (!dataTable) return;\n",
              "\n",
              "          const docLinkHtml = 'Like what you see? Visit the ' +\n",
              "            '<a target=\"_blank\" href=https://colab.research.google.com/notebooks/data_table.ipynb>data table notebook</a>'\n",
              "            + ' to learn more about interactive tables.';\n",
              "          element.innerHTML = '';\n",
              "          dataTable['output_type'] = 'display_data';\n",
              "          await google.colab.output.renderOutput(dataTable, element);\n",
              "          const docLink = document.createElement('div');\n",
              "          docLink.innerHTML = docLinkHtml;\n",
              "          element.appendChild(docLink);\n",
              "        }\n",
              "      </script>\n",
              "    </div>\n",
              "  </div>\n",
              "  "
            ],
            "text/plain": [
              "        ARREST_KEY ARREST_DATE                         PD_DESC  \\\n",
              "0        238013474  12/18/2021                          RAPE 1   \n",
              "1        236943583  11/25/2021                     ARSON 2,3,4   \n",
              "2        234938876  10/14/2021                     OBSCENITY 1   \n",
              "3        234788259  10/11/2021                     ARSON 2,3,4   \n",
              "4        234188790  09/28/2021                         UNKNOWN   \n",
              "...            ...         ...                             ...   \n",
              "155502   222884924  01/10/2021  ROBBERY,OPEN AREA UNCLASSIFIED   \n",
              "155503   223918625  02/03/2021        WEAPONS POSSESSION 1 & 2   \n",
              "155504   224323770  02/13/2021                       ASSAULT 3   \n",
              "155505   222599533  01/04/2021        WEAPONS POSSESSION 1 & 2   \n",
              "155506   224056881  02/06/2021              CRIMINAL MIS 2 & 3   \n",
              "\n",
              "                             OFNS_DESC LAW_CAT_CD ARREST_BORO  \\\n",
              "0                                 RAPE          F           Q   \n",
              "1                                ARSON          F           K   \n",
              "2                           SEX CRIMES          F           K   \n",
              "3                                ARSON          F           B   \n",
              "4                              UNKNOWN          M           B   \n",
              "...                                ...        ...         ...   \n",
              "155502                         ROBBERY          F           B   \n",
              "155503               DANGEROUS WEAPONS          F           K   \n",
              "155504    ASSAULT 3 & RELATED OFFENSES          M           S   \n",
              "155505               DANGEROUS WEAPONS          F           K   \n",
              "155506  CRIMINAL MISCHIEF & RELATED OF          F           Q   \n",
              "\n",
              "        ARREST_PRECINCT  JURISDICTION_CODE AGE_GROUP PERP_SEX  \\\n",
              "0                   105                 97     18-24        M   \n",
              "1                    69                 71     25-44        M   \n",
              "2                    61                  0     25-44        M   \n",
              "3                    42                 71     18-24        M   \n",
              "4                    44                  0     25-44        M   \n",
              "...                 ...                ...       ...      ...   \n",
              "155502               46                  0     45-64        M   \n",
              "155503               67                  0     18-24        M   \n",
              "155504              121                  0     45-64        M   \n",
              "155505               73                  0     25-44        M   \n",
              "155506              102                  0     18-24        M   \n",
              "\n",
              "                       PERP_RACE  \n",
              "0                          BLACK  \n",
              "1                          BLACK  \n",
              "2                          WHITE  \n",
              "3                          BLACK  \n",
              "4                          BLACK  \n",
              "...                          ...  \n",
              "155502                     BLACK  \n",
              "155503                     BLACK  \n",
              "155504                     BLACK  \n",
              "155505                     BLACK  \n",
              "155506  ASIAN / PACIFIC ISLANDER  \n",
              "\n",
              "[155507 rows x 11 columns]"
            ]
          },
          "metadata": {},
          "execution_count": 6
        }
      ]
    },
    {
      "cell_type": "code",
      "source": [
        "#checking the info\n",
        "df3.info()"
      ],
      "metadata": {
        "colab": {
          "base_uri": "https://localhost:8080/"
        },
        "id": "nwnr3t5J75Va",
        "outputId": "832af298-fb83-4ac6-abca-06fb8d09ca09"
      },
      "execution_count": 7,
      "outputs": [
        {
          "output_type": "stream",
          "name": "stdout",
          "text": [
            "<class 'pandas.core.frame.DataFrame'>\n",
            "RangeIndex: 155507 entries, 0 to 155506\n",
            "Data columns (total 11 columns):\n",
            " #   Column             Non-Null Count   Dtype \n",
            "---  ------             --------------   ----- \n",
            " 0   ARREST_KEY         155507 non-null  int64 \n",
            " 1   ARREST_DATE        155507 non-null  object\n",
            " 2   PD_DESC            155507 non-null  object\n",
            " 3   OFNS_DESC          155507 non-null  object\n",
            " 4   LAW_CAT_CD         155507 non-null  object\n",
            " 5   ARREST_BORO        155507 non-null  object\n",
            " 6   ARREST_PRECINCT    155507 non-null  int64 \n",
            " 7   JURISDICTION_CODE  155507 non-null  int64 \n",
            " 8   AGE_GROUP          155507 non-null  object\n",
            " 9   PERP_SEX           155507 non-null  object\n",
            " 10  PERP_RACE          155507 non-null  object\n",
            "dtypes: int64(3), object(8)\n",
            "memory usage: 13.1+ MB\n"
          ]
        }
      ]
    },
    {
      "cell_type": "code",
      "source": [
        "#getting a count of how many pd description are there\n",
        "df3.groupby(['PD_DESC'])['ARREST_KEY'].count()"
      ],
      "metadata": {
        "colab": {
          "base_uri": "https://localhost:8080/"
        },
        "id": "yZs03Z2N74ti",
        "outputId": "c388c372-9fbf-48ed-ea37-3ffb2b96f18c"
      },
      "execution_count": 8,
      "outputs": [
        {
          "output_type": "execute_result",
          "data": {
            "text/plain": [
              "PD_DESC\n",
              "A.B.C.,FALSE PROOF OF AGE            2\n",
              "ACCOSTING,FRAUDULENT                34\n",
              "ADM.CODE,UNCLASSIFIED MISDEMEA      11\n",
              "ADM.CODE,UNCLASSIFIED VIOLATIO      14\n",
              "AGGRAVATED CRIMINAL CONTEMPT       240\n",
              "                                  ... \n",
              "WEAPONS POSSESSION 3               888\n",
              "WEAPONS, POSSESSION, ETC          1726\n",
              "WEAPONS,MFR,TRANSPORT,ETC.           6\n",
              "WEAPONS,PROHIBITED USE IMITATI       1\n",
              "WOUNDS,REPORTING OF                  1\n",
              "Name: ARREST_KEY, Length: 242, dtype: int64"
            ]
          },
          "metadata": {},
          "execution_count": 8
        }
      ]
    },
    {
      "cell_type": "code",
      "source": [
        "#getting a count of how many offense description are there\n",
        "df3.groupby(['OFNS_DESC'])['ARREST_KEY'].count()"
      ],
      "metadata": {
        "colab": {
          "base_uri": "https://localhost:8080/"
        },
        "id": "F2towGs68cya",
        "outputId": "3cc81b67-53fd-4444-c1a6-d74f5dbd5093"
      },
      "execution_count": 9,
      "outputs": [
        {
          "output_type": "execute_result",
          "data": {
            "text/plain": [
              "OFNS_DESC\n",
              "ADMINISTRATIVE CODE                       86\n",
              "ADMINISTRATIVE CODES                       2\n",
              "AGRICULTURE & MRKTS LAW-UNCLASSIFIED      72\n",
              "ALCOHOLIC BEVERAGE CONTROL LAW           313\n",
              "ANTICIPATORY OFFENSES                     64\n",
              "                                        ... \n",
              "THEFT OF SERVICES                        190\n",
              "THEFT-FRAUD                              225\n",
              "UNAUTHORIZED USE OF A VEHICLE            472\n",
              "UNKNOWN                                  103\n",
              "VEHICLE AND TRAFFIC LAWS                5264\n",
              "Name: ARREST_KEY, Length: 64, dtype: int64"
            ]
          },
          "metadata": {},
          "execution_count": 9
        }
      ]
    },
    {
      "cell_type": "code",
      "source": [
        "#There are only 64 offense description. I want to see all offense description so I'm using the value to create a table and show all 64 row\n",
        "df3_offense = df3.groupby(['OFNS_DESC'])['ARREST_KEY'].count().sort_values(ascending= False)\n",
        "pd.set_option('display.max_rows', 64)\n",
        "print(df3_offense)"
      ],
      "metadata": {
        "colab": {
          "base_uri": "https://localhost:8080/"
        },
        "id": "9EkFhbSJ_oVW",
        "outputId": "c3a4221a-b46e-4dc0-a074-2719f2497421"
      },
      "execution_count": 10,
      "outputs": [
        {
          "output_type": "stream",
          "name": "stdout",
          "text": [
            "OFNS_DESC\n",
            "ASSAULT 3 & RELATED OFFENSES            26855\n",
            "FELONY ASSAULT                          15579\n",
            "PETIT LARCENY                           13178\n",
            "DANGEROUS DRUGS                         10450\n",
            "MISCELLANEOUS PENAL LAW                 10328\n",
            "CRIMINAL MISCHIEF & RELATED OF           9294\n",
            "ROBBERY                                  7848\n",
            "DANGEROUS WEAPONS                        7206\n",
            "GRAND LARCENY                            6671\n",
            "VEHICLE AND TRAFFIC LAWS                 5264\n",
            "BURGLARY                                 4895\n",
            "OFFENSES AGAINST PUBLIC ADMINI           4682\n",
            "OFFENSES INVOLVING FRAUD                 3832\n",
            "SEX CRIMES                               3586\n",
            "OFF. AGNST PUB ORD SENSBLTY &            3345\n",
            "FORGERY                                  3127\n",
            "INTOXICATED & IMPAIRED DRIVING           2334\n",
            "POSSESSION OF STOLEN PROPERTY            1858\n",
            "OTHER TRAFFIC INFRACTION                 1632\n",
            "MURDER & NON-NEGL. MANSLAUGHTE           1513\n",
            "FOR OTHER AUTHORITIES                    1393\n",
            "OTHER OFFENSES RELATED TO THEF           1369\n",
            "CRIMINAL TRESPASS                        1269\n",
            "GRAND LARCENY OF MOTOR VEHICLE           1181\n",
            "OFFENSES AGAINST THE PERSON               903\n",
            "NYS LAWS-UNCLASSIFIED FELONY              706\n",
            "OTHER STATE LAWS (NON PENAL LA            643\n",
            "RAPE                                      606\n",
            "UNAUTHORIZED USE OF A VEHICLE             472\n",
            "BURGLAR'S TOOLS                           404\n",
            "INTOXICATED/IMPAIRED DRIVING              382\n",
            "FRAUDS                                    335\n",
            "ALCOHOLIC BEVERAGE CONTROL LAW            313\n",
            "GAMBLING                                  294\n",
            "PROSTITUTION & RELATED OFFENSES           233\n",
            "THEFT-FRAUD                               225\n",
            "THEFT OF SERVICES                         190\n",
            "OTHER STATE LAWS                          187\n",
            "ARSON                                     122\n",
            "UNKNOWN                                   103\n",
            "ADMINISTRATIVE CODE                        86\n",
            "KIDNAPPING & RELATED OFFENSES              85\n",
            "OFFENSES AGAINST PUBLIC SAFETY             77\n",
            "AGRICULTURE & MRKTS LAW-UNCLASSIFIED       72\n",
            "ANTICIPATORY OFFENSES                      64\n",
            "HARRASSMENT 2                              42\n",
            "ENDAN WELFARE INCOMP                       35\n",
            "MOVING INFRACTIONS                         34\n",
            "FRAUDULENT ACCOSTING                       34\n",
            "DISORDERLY CONDUCT                         33\n",
            "CHILD ABANDONMENT/NON SUPPORT              28\n",
            "HOMICIDE-NEGLIGENT,UNCLASSIFIE             28\n",
            "OTHER STATE LAWS (NON PENAL LAW)           15\n",
            "OFFENSES RELATED TO CHILDREN               13\n",
            "KIDNAPPING                                 12\n",
            "JOSTLING                                   11\n",
            "HOMICIDE-NEGLIGENT-VEHICLE                 10\n",
            "ESCAPE 3                                    7\n",
            "LOITERING/GAMBLING (CARDS, DIC              5\n",
            "PARKING OFFENSES                            3\n",
            "FELONY SEX CRIMES                           2\n",
            "ADMINISTRATIVE CODES                        2\n",
            "KIDNAPPING AND RELATED OFFENSES             1\n",
            "NEW YORK CITY HEALTH CODE                   1\n",
            "Name: ARREST_KEY, dtype: int64\n"
          ]
        }
      ]
    },
    {
      "cell_type": "code",
      "source": [
        "#looking at the count of other columns by running groupby and print them out so I don't have to do them seperately\n",
        "\n",
        "print(df3.groupby(['AGE_GROUP'])['ARREST_KEY'].count(),'\\n')\n",
        "\n",
        "print(df3.groupby(['PERP_SEX'])['ARREST_KEY'].count(),'\\n')\n",
        "\n",
        "print(df3.groupby(['PERP_RACE'])['ARREST_KEY'].count(),'\\n')\n",
        "\n",
        "print(df3.groupby(['ARREST_BORO'])['ARREST_KEY'].count(),'\\n')\n",
        "\n",
        "print(df3.groupby(['LAW_CAT_CD'])['ARREST_KEY'].count(),'\\n')\n",
        "\n",
        "print(df3.groupby(['ARREST_PRECINCT'])['ARREST_KEY'].count(),'\\n')"
      ],
      "metadata": {
        "colab": {
          "base_uri": "https://localhost:8080/"
        },
        "id": "mjwizuoE8ySL",
        "outputId": "cdddd151-fb55-44c1-b7e1-cbfcffdef6fb"
      },
      "execution_count": 12,
      "outputs": [
        {
          "output_type": "stream",
          "name": "stdout",
          "text": [
            "AGE_GROUP\n",
            "18-24    28951\n",
            "25-44    88850\n",
            "45-64    30608\n",
            "65+       2298\n",
            "<18       4800\n",
            "Name: ARREST_KEY, dtype: int64 \n",
            "\n",
            "PERP_SEX\n",
            "F     26597\n",
            "M    128910\n",
            "Name: ARREST_KEY, dtype: int64 \n",
            "\n",
            "PERP_RACE\n",
            "AMERICAN INDIAN/ALASKAN NATIVE      443\n",
            "ASIAN / PACIFIC ISLANDER           8593\n",
            "BLACK                             77133\n",
            "BLACK HISPANIC                    13576\n",
            "UNKNOWN                             587\n",
            "WHITE                             17063\n",
            "WHITE HISPANIC                    38112\n",
            "Name: ARREST_KEY, dtype: int64 \n",
            "\n",
            "ARREST_BORO\n",
            "B    34018\n",
            "K    41550\n",
            "M    39677\n",
            "Q    33051\n",
            "S     7211\n",
            "Name: ARREST_KEY, dtype: int64 \n",
            "\n",
            "LAW_CAT_CD\n",
            "F          70867\n",
            "I            230\n",
            "M          82632\n",
            "UNKNOWN     1393\n",
            "V            385\n",
            "Name: ARREST_KEY, dtype: int64 \n",
            "\n",
            "ARREST_PRECINCT\n",
            "1      1753\n",
            "5      2427\n",
            "6      1430\n",
            "7      1622\n",
            "9      1672\n",
            "       ... \n",
            "115    2516\n",
            "120    2896\n",
            "121    2175\n",
            "122    1342\n",
            "123     798\n",
            "Name: ARREST_KEY, Length: 77, dtype: int64 \n",
            "\n"
          ]
        }
      ]
    },
    {
      "cell_type": "code",
      "source": [
        "#Checking the date range to see if any other filtering is needed\n",
        "print('date range:',df3['ARREST_DATE'].min(),'to',df3['ARREST_DATE'].max() )"
      ],
      "metadata": {
        "colab": {
          "base_uri": "https://localhost:8080/"
        },
        "id": "53IZCOoJ86OL",
        "outputId": "9b347733-090c-4229-b95f-1bc8fabbbba1"
      },
      "execution_count": 13,
      "outputs": [
        {
          "output_type": "stream",
          "name": "stdout",
          "text": [
            "date range: 01/01/2021 to 12/31/2021\n"
          ]
        }
      ]
    },
    {
      "cell_type": "code",
      "source": [
        "#Bar chart that show crime total count by boroughs\n",
        "df3.groupby(['ARREST_BORO']).count().plot(kind='bar', y='ARREST_KEY')"
      ],
      "metadata": {
        "colab": {
          "base_uri": "https://localhost:8080/",
          "height": 296
        },
        "id": "Y2PZPsxWLU48",
        "outputId": "444d2256-6db7-4c3a-909b-10b0c7380118"
      },
      "execution_count": 14,
      "outputs": [
        {
          "output_type": "execute_result",
          "data": {
            "text/plain": [
              "<matplotlib.axes._subplots.AxesSubplot at 0x7fb951114550>"
            ]
          },
          "metadata": {},
          "execution_count": 14
        },
        {
          "output_type": "display_data",
          "data": {
            "image/png": "[encoded data removed]",
            "text/plain": [
              "<Figure size 432x288 with 1 Axes>"
            ]
          },
          "metadata": {
            "needs_background": "light"
          }
        }
      ]
    },
    {
      "cell_type": "markdown",
      "source": [
        "Staten Island has the lowest count, but that could also be because much less people live there."
      ],
      "metadata": {
        "id": "L-8tQ6GrNH-v"
      }
    },
    {
      "cell_type": "code",
      "source": [
        "#Pie chart by gender\n",
        "df3.groupby(['PERP_SEX']).count().plot(kind='pie', y='ARREST_KEY')"
      ],
      "metadata": {
        "colab": {
          "base_uri": "https://localhost:8080/",
          "height": 265
        },
        "id": "dld11hMZMpH9",
        "outputId": "9b282158-d9f7-4a5e-9e1b-ee6ed0ea2441"
      },
      "execution_count": 15,
      "outputs": [
        {
          "output_type": "execute_result",
          "data": {
            "text/plain": [
              "<matplotlib.axes._subplots.AxesSubplot at 0x7fb95108c6d0>"
            ]
          },
          "metadata": {},
          "execution_count": 15
        },
        {
          "output_type": "display_data",
          "data": {
            "image/png": "[encoded data removed]",
            "text/plain": [
              "<Figure size 432x288 with 1 Axes>"
            ]
          },
          "metadata": {}
        }
      ]
    },
    {
      "cell_type": "markdown",
      "source": [
        "It shows men are still more dangerous than woman."
      ],
      "metadata": {
        "id": "ivV80U1sM25e"
      }
    },
    {
      "cell_type": "code",
      "source": [
        "#renaming boroughs\n",
        "df3['ARREST_BORO'] = df3['ARREST_BORO'].replace(['B','K','M','Q','S'],['Bronx','Brooklyn','Manhattan', 'Queens', 'Staten Island'])\n",
        "df3.head()"
      ],
      "metadata": {
        "colab": {
          "base_uri": "https://localhost:8080/",
          "height": 322
        },
        "id": "davbqrWC9omq",
        "outputId": "821d2bd1-6ca1-455c-ba9b-0515079405a1"
      },
      "execution_count": 16,
      "outputs": [
        {
          "output_type": "execute_result",
          "data": {
            "text/html": [
              "\n",
              "  <div id=\"df-0d10192c-38e9-4285-8662-5fee25d7c51e\">\n",
              "    <div class=\"colab-df-container\">\n",
              "      <div>\n",
              "<style scoped>\n",
              "    .dataframe tbody tr th:only-of-type {\n",
              "        vertical-align: middle;\n",
              "    }\n",
              "\n",
              "    .dataframe tbody tr th {\n",
              "        vertical-align: top;\n",
              "    }\n",
              "\n",
              "    .dataframe thead th {\n",
              "        text-align: right;\n",
              "    }\n",
              "</style>\n",
              "<table border=\"1\" class=\"dataframe\">\n",
              "  <thead>\n",
              "    <tr style=\"text-align: right;\">\n",
              "      <th></th>\n",
              "      <th>ARREST_KEY</th>\n",
              "      <th>ARREST_DATE</th>\n",
              "      <th>PD_DESC</th>\n",
              "      <th>OFNS_DESC</th>\n",
              "      <th>LAW_CAT_CD</th>\n",
              "      <th>ARREST_BORO</th>\n",
              "      <th>ARREST_PRECINCT</th>\n",
              "      <th>JURISDICTION_CODE</th>\n",
              "      <th>AGE_GROUP</th>\n",
              "      <th>PERP_SEX</th>\n",
              "      <th>PERP_RACE</th>\n",
              "    </tr>\n",
              "  </thead>\n",
              "  <tbody>\n",
              "    <tr>\n",
              "      <th>0</th>\n",
              "      <td>238013474</td>\n",
              "      <td>12/18/2021</td>\n",
              "      <td>RAPE 1</td>\n",
              "      <td>RAPE</td>\n",
              "      <td>F</td>\n",
              "      <td>Queens</td>\n",
              "      <td>105</td>\n",
              "      <td>97</td>\n",
              "      <td>18-24</td>\n",
              "      <td>M</td>\n",
              "      <td>BLACK</td>\n",
              "    </tr>\n",
              "    <tr>\n",
              "      <th>1</th>\n",
              "      <td>236943583</td>\n",
              "      <td>11/25/2021</td>\n",
              "      <td>ARSON 2,3,4</td>\n",
              "      <td>ARSON</td>\n",
              "      <td>F</td>\n",
              "      <td>Brooklyn</td>\n",
              "      <td>69</td>\n",
              "      <td>71</td>\n",
              "      <td>25-44</td>\n",
              "      <td>M</td>\n",
              "      <td>BLACK</td>\n",
              "    </tr>\n",
              "    <tr>\n",
              "      <th>2</th>\n",
              "      <td>234938876</td>\n",
              "      <td>10/14/2021</td>\n",
              "      <td>OBSCENITY 1</td>\n",
              "      <td>SEX CRIMES</td>\n",
              "      <td>F</td>\n",
              "      <td>Brooklyn</td>\n",
              "      <td>61</td>\n",
              "      <td>0</td>\n",
              "      <td>25-44</td>\n",
              "      <td>M</td>\n",
              "      <td>WHITE</td>\n",
              "    </tr>\n",
              "    <tr>\n",
              "      <th>3</th>\n",
              "      <td>234788259</td>\n",
              "      <td>10/11/2021</td>\n",
              "      <td>ARSON 2,3,4</td>\n",
              "      <td>ARSON</td>\n",
              "      <td>F</td>\n",
              "      <td>Bronx</td>\n",
              "      <td>42</td>\n",
              "      <td>71</td>\n",
              "      <td>18-24</td>\n",
              "      <td>M</td>\n",
              "      <td>BLACK</td>\n",
              "    </tr>\n",
              "    <tr>\n",
              "      <th>4</th>\n",
              "      <td>234188790</td>\n",
              "      <td>09/28/2021</td>\n",
              "      <td>UNKNOWN</td>\n",
              "      <td>UNKNOWN</td>\n",
              "      <td>M</td>\n",
              "      <td>Bronx</td>\n",
              "      <td>44</td>\n",
              "      <td>0</td>\n",
              "      <td>25-44</td>\n",
              "      <td>M</td>\n",
              "      <td>BLACK</td>\n",
              "    </tr>\n",
              "  </tbody>\n",
              "</table>\n",
              "</div>\n",
              "      <button class=\"colab-df-convert\" onclick=\"convertToInteractive('df-0d10192c-38e9-4285-8662-5fee25d7c51e')\"\n",
              "              title=\"Convert this dataframe to an interactive table.\"\n",
              "              style=\"display:none;\">\n",
              "        \n",
              "  <svg xmlns=\"http://www.w3.org/2000/svg\" height=\"24px\"viewBox=\"0 0 24 24\"\n",
              "       width=\"24px\">\n",
              "    <path d=\"M0 0h24v24H0V0z\" fill=\"none\"/>\n",
              "    <path d=\"M18.56 5.44l.94 2.06.94-2.06 2.06-.94-2.06-.94-.94-2.06-.94 2.06-2.06.94zm-11 1L8.5 8.5l.94-2.06 2.06-.94-2.06-.94L8.5 2.5l-.94 2.06-2.06.94zm10 10l.94 2.06.94-2.06 2.06-.94-2.06-.94-.94-2.06-.94 2.06-2.06.94z\"/><path d=\"M17.41 7.96l-1.37-1.37c-.4-.4-.92-.59-1.43-.59-.52 0-1.04.2-1.43.59L10.3 9.45l-7.72 7.72c-.78.78-.78 2.05 0 2.83L4 21.41c.39.39.9.59 1.41.59.51 0 1.02-.2 1.41-.59l7.78-7.78 2.81-2.81c.8-.78.8-2.07 0-2.86zM5.41 20L4 18.59l7.72-7.72 1.47 1.35L5.41 20z\"/>\n",
              "  </svg>\n",
              "      </button>\n",
              "      \n",
              "  <style>\n",
              "    .colab-df-container {\n",
              "      display:flex;\n",
              "      flex-wrap:wrap;\n",
              "      gap: 12px;\n",
              "    }\n",
              "\n",
              "    .colab-df-convert {\n",
              "      background-color: #E8F0FE;\n",
              "      border: none;\n",
              "      border-radius: 50%;\n",
              "      cursor: pointer;\n",
              "      display: none;\n",
              "      fill: #1967D2;\n",
              "      height: 32px;\n",
              "      padding: 0 0 0 0;\n",
              "      width: 32px;\n",
              "    }\n",
              "\n",
              "    .colab-df-convert:hover {\n",
              "      background-color: #E2EBFA;\n",
              "      box-shadow: 0px 1px 2px rgba(60, 64, 67, 0.3), 0px 1px 3px 1px rgba(60, 64, 67, 0.15);\n",
              "      fill: #174EA6;\n",
              "    }\n",
              "\n",
              "    [theme=dark] .colab-df-convert {\n",
              "      background-color: #3B4455;\n",
              "      fill: #D2E3FC;\n",
              "    }\n",
              "\n",
              "    [theme=dark] .colab-df-convert:hover {\n",
              "      background-color: #434B5C;\n",
              "      box-shadow: 0px 1px 3px 1px rgba(0, 0, 0, 0.15);\n",
              "      filter: drop-shadow(0px 1px 2px rgba(0, 0, 0, 0.3));\n",
              "      fill: #FFFFFF;\n",
              "    }\n",
              "  </style>\n",
              "\n",
              "      <script>\n",
              "        const buttonEl =\n",
              "          document.querySelector('#df-0d10192c-38e9-4285-8662-5fee25d7c51e button.colab-df-convert');\n",
              "        buttonEl.style.display =\n",
              "          google.colab.kernel.accessAllowed ? 'block' : 'none';\n",
              "\n",
              "        async function convertToInteractive(key) {\n",
              "          const element = document.querySelector('#df-0d10192c-38e9-4285-8662-5fee25d7c51e');\n",
              "          const dataTable =\n",
              "            await google.colab.kernel.invokeFunction('convertToInteractive',\n",
              "                                                     [key], {});\n",
              "          if (!dataTable) return;\n",
              "\n",
              "          const docLinkHtml = 'Like what you see? Visit the ' +\n",
              "            '<a target=\"_blank\" href=https://colab.research.google.com/notebooks/data_table.ipynb>data table notebook</a>'\n",
              "            + ' to learn more about interactive tables.';\n",
              "          element.innerHTML = '';\n",
              "          dataTable['output_type'] = 'display_data';\n",
              "          await google.colab.output.renderOutput(dataTable, element);\n",
              "          const docLink = document.createElement('div');\n",
              "          docLink.innerHTML = docLinkHtml;\n",
              "          element.appendChild(docLink);\n",
              "        }\n",
              "      </script>\n",
              "    </div>\n",
              "  </div>\n",
              "  "
            ],
            "text/plain": [
              "   ARREST_KEY ARREST_DATE      PD_DESC   OFNS_DESC LAW_CAT_CD ARREST_BORO  \\\n",
              "0   238013474  12/18/2021       RAPE 1        RAPE          F      Queens   \n",
              "1   236943583  11/25/2021  ARSON 2,3,4       ARSON          F    Brooklyn   \n",
              "2   234938876  10/14/2021  OBSCENITY 1  SEX CRIMES          F    Brooklyn   \n",
              "3   234788259  10/11/2021  ARSON 2,3,4       ARSON          F       Bronx   \n",
              "4   234188790  09/28/2021      UNKNOWN     UNKNOWN          M       Bronx   \n",
              "\n",
              "   ARREST_PRECINCT  JURISDICTION_CODE AGE_GROUP PERP_SEX PERP_RACE  \n",
              "0              105                 97     18-24        M     BLACK  \n",
              "1               69                 71     25-44        M     BLACK  \n",
              "2               61                  0     25-44        M     WHITE  \n",
              "3               42                 71     18-24        M     BLACK  \n",
              "4               44                  0     25-44        M     BLACK  "
            ]
          },
          "metadata": {},
          "execution_count": 16
        }
      ]
    },
    {
      "cell_type": "markdown",
      "source": [
        "Since I live in Queens, I want to look at the top crimes in Queens"
      ],
      "metadata": {
        "id": "Oo5ndbzcBnfc"
      }
    },
    {
      "cell_type": "code",
      "source": [
        "#filtering out Queens\n",
        "df4 = df3[df3['ARREST_BORO']=='Queens']\n",
        "df4_queens = df4.groupby(['OFNS_DESC'])['ARREST_KEY'].count().sort_values(ascending= False)\n",
        "df4_queens.head(15)"
      ],
      "metadata": {
        "colab": {
          "base_uri": "https://localhost:8080/"
        },
        "id": "duhJam4LBzzU",
        "outputId": "0dcbcf12-0dc1-4db4-ae19-2254fbc6d278"
      },
      "execution_count": 17,
      "outputs": [
        {
          "output_type": "execute_result",
          "data": {
            "text/plain": [
              "OFNS_DESC\n",
              "ASSAULT 3 & RELATED OFFENSES      6207\n",
              "FELONY ASSAULT                    3393\n",
              "MISCELLANEOUS PENAL LAW           3044\n",
              "PETIT LARCENY                     2342\n",
              "CRIMINAL MISCHIEF & RELATED OF    2102\n",
              "DANGEROUS DRUGS                   1474\n",
              "ROBBERY                           1406\n",
              "DANGEROUS WEAPONS                 1395\n",
              "GRAND LARCENY                     1160\n",
              "VEHICLE AND TRAFFIC LAWS          1115\n",
              "SEX CRIMES                        1090\n",
              "FORGERY                            845\n",
              "BURGLARY                           814\n",
              "INTOXICATED & IMPAIRED DRIVING     781\n",
              "OFFENSES AGAINST PUBLIC ADMINI     761\n",
              "Name: ARREST_KEY, dtype: int64"
            ]
          },
          "metadata": {},
          "execution_count": 17
        }
      ]
    },
    {
      "cell_type": "code",
      "source": [
        "#filtering out sex crimes and find out the count of them for Queens\n",
        "sexcrime_list = ['SEX CRIMES', 'RAPE', 'FELONY SEX CRIMES' ]\n",
        "df4_queens2 = df4[df4['OFNS_DESC'].isin(sexcrime_list)]\n",
        "df4_queens2.groupby(['OFNS_DESC'])['ARREST_KEY'].count()"
      ],
      "metadata": {
        "colab": {
          "base_uri": "https://localhost:8080/"
        },
        "id": "xUBffL76JvW2",
        "outputId": "5d49ff54-018b-48d1-aa84-94db62d64868"
      },
      "execution_count": 18,
      "outputs": [
        {
          "output_type": "execute_result",
          "data": {
            "text/plain": [
              "OFNS_DESC\n",
              "RAPE           148\n",
              "SEX CRIMES    1090\n",
              "Name: ARREST_KEY, dtype: int64"
            ]
          },
          "metadata": {},
          "execution_count": 18
        }
      ]
    },
    {
      "cell_type": "code",
      "source": [
        "#filtering out sex crimes and find out the count of them for the whole NYC\n",
        "sexcrime_list = ['SEX CRIMES', 'RAPE', 'FELONY SEX CRIMES' ]\n",
        "df3_sc = df3[df3['OFNS_DESC'].isin(sexcrime_list)]\n",
        "df3_sc.groupby(['OFNS_DESC'])['ARREST_KEY'].count()"
      ],
      "metadata": {
        "colab": {
          "base_uri": "https://localhost:8080/"
        },
        "id": "-IgYcrbmTj5F",
        "outputId": "c04b35a1-7b58-4365-fed8-e50095e284c9"
      },
      "execution_count": 19,
      "outputs": [
        {
          "output_type": "execute_result",
          "data": {
            "text/plain": [
              "OFNS_DESC\n",
              "FELONY SEX CRIMES       2\n",
              "RAPE                  606\n",
              "SEX CRIMES           3586\n",
              "Name: ARREST_KEY, dtype: int64"
            ]
          },
          "metadata": {},
          "execution_count": 19
        }
      ]
    },
    {
      "cell_type": "code",
      "source": [
        "#sex crime by age group\n",
        "df3_sc.groupby(['AGE_GROUP']).count().plot(kind='pie', y='ARREST_KEY', title='sex crime by age group (whole NYC)')"
      ],
      "metadata": {
        "colab": {
          "base_uri": "https://localhost:8080/",
          "height": 281
        },
        "id": "u8T0oFmfUFmm",
        "outputId": "5c9d35e9-0833-4615-ecd9-9d32a078a635"
      },
      "execution_count": 20,
      "outputs": [
        {
          "output_type": "execute_result",
          "data": {
            "text/plain": [
              "<matplotlib.axes._subplots.AxesSubplot at 0x7fb95110c210>"
            ]
          },
          "metadata": {},
          "execution_count": 20
        },
        {
          "output_type": "display_data",
          "data": {
            "image/png": "[encoded data removed]",
            "text/plain": [
              "<Figure size 432x288 with 1 Axes>"
            ]
          },
          "metadata": {}
        }
      ]
    },
    {
      "cell_type": "code",
      "source": [
        "#a displot by race\n",
        "sns.displot(df3_sc['PERP_RACE'],bins=10)"
      ],
      "metadata": {
        "colab": {
          "base_uri": "https://localhost:8080/",
          "height": 386
        },
        "id": "pOqtUbIUU4hu",
        "outputId": "4ed9a277-e342-4663-ebd1-b321d3a18cbe"
      },
      "execution_count": 21,
      "outputs": [
        {
          "output_type": "execute_result",
          "data": {
            "text/plain": [
              "<seaborn.axisgrid.FacetGrid at 0x7fb950bbc110>"
            ]
          },
          "metadata": {},
          "execution_count": 21
        },
        {
          "output_type": "display_data",
          "data": {
            "image/png": "[encoded data removed]",
            "text/plain": [
              "<Figure size 360x360 with 1 Axes>"
            ]
          },
          "metadata": {
            "needs_background": "light"
          }
        }
      ]
    },
    {
      "cell_type": "code",
      "source": [
        "#the above displot is so croweded so I went back to simple bar chart\n",
        "df3_sc.groupby(['PERP_RACE']).count().plot(kind='bar', y='ARREST_KEY')"
      ],
      "metadata": {
        "colab": {
          "base_uri": "https://localhost:8080/",
          "height": 467
        },
        "id": "ulKJ2coQWELZ",
        "outputId": "d376c849-0ade-4976-902b-ca1f69d8b6ce"
      },
      "execution_count": 22,
      "outputs": [
        {
          "output_type": "execute_result",
          "data": {
            "text/plain": [
              "<matplotlib.axes._subplots.AxesSubplot at 0x7fb950ae4ed0>"
            ]
          },
          "metadata": {},
          "execution_count": 22
        },
        {
          "output_type": "display_data",
          "data": {
            "image/png": "[encoded data removed]",
            "text/plain": [
              "<Figure size 432x288 with 1 Axes>"
            ]
          },
          "metadata": {
            "needs_background": "light"
          }
        }
      ]
    }
  ]
}